{
 "cells": [
  {
   "cell_type": "code",
   "execution_count": null,
   "metadata": {},
   "outputs": [],
   "source": [
    "#| default_exp ship_dimensions\n",
    "%load_ext autoreload\n",
    "%autoreload 2"
   ]
  },
  {
   "cell_type": "code",
   "execution_count": null,
   "metadata": {},
   "outputs": [],
   "source": [
    "#| export\n",
    "from dataclasses import dataclass"
   ]
  },
  {
   "cell_type": "markdown",
   "metadata": {},
   "source": [
    "# Ship dimension classes for different models\n",
    "\n",
    "The idea behind the current ship dimensions is to allow for combining different pre-defined ship dimension data classes that will satisfy all resistance classes in use. Each ship dimension data class is designed to fit one resistance model class, or other classes needing ship dimensions. By creating a new ship dimension class specific for a project and inheriting from the pre defined ship dimension classes, the resulting class will ensure that all required fields are filled, and there is no need to fill in the same data twice. If additional models are implemented requiring ship dimensions, the naming convention should follow the ship dimension classes defined here, and accept an inherited ship dimension class as input."
   ]
  },
  {
   "cell_type": "code",
   "execution_count": null,
   "metadata": {},
   "outputs": [],
   "source": [
    "#| export\n",
    "@dataclass(kw_only=True)\n",
    "class ShipDimensionsHollenbachSingleScrew:\n",
    "    \"\"\"Ship dimensions for Hollenbach single screw ship model.\"\"\"\n",
    "    b_beam_m: float\n",
    "    lpp_length_between_perpendiculars_m: float\n",
    "    los_length_over_surface_m: float\n",
    "    lwl_length_water_line_m: float\n",
    "    cb_block_coefficient: float\n",
    "    dp_diameter_propeller_m: float\n",
    "    ta_draft_aft_m: float\n",
    "    tf_draft_forward_m: float\n",
    "    wetted_surface_m2: float = None\n",
    "    av_transverse_area_above_water_line_m2: float = 0\n",
    "    area_bilge_keel_m2: float = 0\n",
    "    rho_seawater_kg_per_m3: float = 1025.0  # Seawater density\n",
    "    rho_air_kg_per_m3: float = 1.225  # Air density at standard conditions (15 deg C)\n",
    "\n",
    "\n",
    "@dataclass(kw_only=True)\n",
    "class ShipDimensionsHollenbachTwinScrew:\n",
    "    \"\"\"Ship dimensions for Hollenbach twin screw ship model.\"\"\"\n",
    "    b_beam_m: float\n",
    "    lpp_length_between_perpendiculars_m: float\n",
    "    los_length_over_surface_m: float\n",
    "    lwl_length_water_line_m: float\n",
    "    cb_block_coefficient: float\n",
    "    dp_diameter_propeller_m: float\n",
    "    ta_draft_aft_m: float\n",
    "    tf_draft_forward_m: float\n",
    "    wetted_surface_m2: float = None\n",
    "    av_transverse_area_above_water_line_m2: float = 0\n",
    "    area_bilge_keel_m2: float = 0\n",
    "    rho_seawater_kg_per_m3: float = 1025.0  # Seawater density\n",
    "    rho_air_kg_per_m3: float = 1.225  # Air density at standard conditions (15 deg C)\n",
    "    has_bulb: bool = True\n",
    "    number_rudders: int = 2\n",
    "    number_shaft_brackets: int = 2\n",
    "    number_shaft_bossings: int = 2\n",
    "    number_thrusters: int = 2\n",
    "\n",
    "\n",
    "@dataclass(kw_only=True)\n",
    "class ShipDimensionsAddedResistance:\n",
    "    \"\"\"Dimensions of a ship according to the STAWAVE2 model\n",
    "\n",
    "    The default value for kyy_radius_gyration_in_lateral_direction_non_dim is 0.25, which is the\n",
    "    recommended value from ITTC Recommended Proceduares and Guidelines 7.5-02-07-04.4\n",
    "\n",
    "    See also: https://ittc.info/media/4180/75-02-07-044.pdf\n",
    "    \"\"\"\n",
    "    b_beam_m: float\n",
    "    lpp_length_between_perpendiculars_m: float\n",
    "    cb_block_coefficient: float\n",
    "    ta_draft_aft_m: float\n",
    "    tf_draft_forward_m: float\n",
    "    lwl_length_water_line_m: float = None\n",
    "    kyy_radius_gyration_in_lateral_direction_non_dim: float = 0.25\n",
    "\n",
    "    def __post_init__(self):\n",
    "        if self.lwl_length_water_line_m is None:\n",
    "            self.lwl_length_water_line_m = self.lpp_length_between_perpendiculars_m\n",
    "\n",
    "    @property\n",
    "    def tm_draft_mid_m(self) -> float:\n",
    "        return 0.5 * (self.ta_draft_aft_m + self.tf_draft_forward_m)"
   ]
  },
  {
   "cell_type": "markdown",
   "metadata": {},
   "source": [
    "# Test behaviour\n",
    "Combining two ship dimension classes where ShipDimensionsAddedResistance expands on the ShipSimensionsHollenbachSingleScrew dataclass"
   ]
  },
  {
   "cell_type": "code",
   "execution_count": null,
   "metadata": {},
   "outputs": [],
   "source": [
    "#| hide\n",
    "from ship_model_lib.calm_water_resistance import CalmWaterResistanceHollenbachSingleScrewDesignDraft"
   ]
  },
  {
   "cell_type": "code",
   "execution_count": null,
   "metadata": {},
   "outputs": [
    {
     "data": {
      "text/plain": "150.35032255945677"
     },
     "execution_count": null,
     "metadata": {},
     "output_type": "execute_result"
    }
   ],
   "source": [
    "#| hide\n",
    "\n",
    "b_beam_m=24\n",
    "lpp_length_between_perpendiculars_m=145\n",
    "los_length_over_surface_m=150\n",
    "lwl_length_water_line_m=146.7\n",
    "cb_block_coefficient=0.75\n",
    "ta_draft_aft_m=8.2\n",
    "tf_draft_forward_m=8.2\n",
    "wetted_surface_m2=4400\n",
    "av_transverse_area_above_water_line_m2=2\n",
    "area_bilge_keel_m2=1\n",
    "kyy_radius_gyration_in_lateral_direction_non_dim=0.26\n",
    "propeller_diameter = 9.81\n",
    "\n",
    "\n",
    "@dataclass\n",
    "class ShipDimensionTest(ShipDimensionsHollenbachSingleScrew, ShipDimensionsAddedResistance):\n",
    "    pass\n",
    "\n",
    "test_ship_dimensions = ShipDimensionTest(b_beam_m=b_beam_m,\n",
    "                                         lpp_length_between_perpendiculars_m=lpp_length_between_perpendiculars_m,\n",
    "                                         los_length_over_surface_m=los_length_over_surface_m,\n",
    "                                         lwl_length_water_line_m=lwl_length_water_line_m,\n",
    "                                         cb_block_coefficient=cb_block_coefficient,\n",
    "                                         ta_draft_aft_m=ta_draft_aft_m,\n",
    "                                         tf_draft_forward_m=tf_draft_forward_m,\n",
    "                                         wetted_surface_m2=wetted_surface_m2,\n",
    "                                         area_bilge_keel_m2=area_bilge_keel_m2,\n",
    "                                         av_transverse_area_above_water_line_m2=av_transverse_area_above_water_line_m2,\n",
    "                                         kyy_radius_gyration_in_lateral_direction_non_dim=kyy_radius_gyration_in_lateral_direction_non_dim,\n",
    "                                         dp_diameter_propeller_m=propeller_diameter)\n",
    "\n",
    "calm_water_hollenbach_single_screw = CalmWaterResistanceHollenbachSingleScrewDesignDraft(ship_dimensions=test_ship_dimensions)\n",
    "calm_water_hollenbach_single_screw.get_resistance_from_speed(velocity_kn=10)"
   ]
  }
 ],
 "metadata": {
  "kernelspec": {
   "display_name": "python3",
   "language": "python",
   "name": "python3"
  }
 },
 "nbformat": 4,
 "nbformat_minor": 0
}
