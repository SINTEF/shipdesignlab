{
 "cells": [
  {
   "cell_type": "raw",
   "metadata": {},
   "source": [
    "---\n",
    "description: Provides utility for the ship model library such as\n",
    "output-file: utility.html\n",
    "title: Utility for the ship model library\n",
    "\n",
    "---\n",
    "\n"
   ]
  },
  {
   "cell_type": "code",
   "execution_count": null,
   "metadata": {},
   "outputs": [],
   "source": [
    "%load_ext autoreload\n",
    "%autoreload 2"
   ]
  },
  {
   "cell_type": "code",
   "execution_count": null,
   "metadata": {},
   "outputs": [],
   "source": [
    "from nbdev.showdoc import *"
   ]
  },
  {
   "cell_type": "markdown",
   "metadata": {},
   "source": [
    "## Types"
   ]
  },
  {
   "cell_type": "code",
   "execution_count": null,
   "metadata": {},
   "outputs": [],
   "source": [
    "import dataclasses\n",
    "import enum\n",
    "from enum import IntEnum\n",
    "from typing import Generic, TypeVar, List, Union, Callable\n",
    "\n",
    "from scipy.interpolate import interp1d\n",
    "import numpy as np\n",
    "\n",
    "Numeric = Union[float, np.ndarray]"
   ]
  },
  {
   "cell_type": "markdown",
   "metadata": {},
   "source": [
    "## Converters"
   ]
  },
  {
   "cell_type": "code",
   "execution_count": null,
   "metadata": {},
   "outputs": [],
   "source": [
    "def kn_to_m_per_s(v_kn: Numeric) -> Numeric:\n",
    "    return v_kn * 0.5144\n",
    "\n",
    "\n",
    "def m_per_s_to_kn(v_m_per_s: Numeric) -> Numeric:\n",
    "    return v_m_per_s / 0.5144\n"
   ]
  },
  {
   "cell_type": "markdown",
   "metadata": {},
   "source": [
    "## Interplation Function that Returns the information of whether the output is extrapolated"
   ]
  },
  {
   "cell_type": "code",
   "execution_count": null,
   "metadata": {},
   "outputs": [],
   "source": [
    "class WarningType(IntEnum):\n",
    "    UNKNOWN = -1\n",
    "    EXTRAPOLATED_CALMWATER_POWER = enum.auto()\n",
    "    EXTRAPOLATED_CALMWATER_SPEED = enum.auto()\n",
    "    EXTRAPOLATED_SEAMARGIN = enum.auto()\n",
    "    EXTRAPOLATED_PROPULSION_POWER = enum.auto()\n",
    "    EXTRAPOLATED_PROPULSION_SPEED = enum.auto()\n",
    "    EXTRAPOLATED_ACCELERATION = enum.auto()\n",
    "    EXTRAPOLATED_COASTING = enum.auto()\n",
    "    GYMIR_ERROR = enum.auto()\n",
    "    MISSING_PATH = enum.auto()\n",
    "    MISSING_PLACE = enum.auto()\n",
    "    MISSING_HULL = enum.auto()\n",
    "    WRONG_INPUT = enum.auto()\n",
    "\n",
    "\n",
    "@dataclasses.dataclass\n",
    "class WarningMessage:\n",
    "\n",
    "    code: WarningType\n",
    "    title: str\n",
    "    description: str\n",
    "    hint: str\n",
    "\n",
    "\n",
    "T = TypeVar(\"T\")\n",
    "Numeric = Union[float, np.ndarray]\n",
    "\n",
    "\n",
    "@dataclasses.dataclass\n",
    "class InterpolatedValue:\n",
    "    value: Numeric\n",
    "    _is_extrapolated: bool\n",
    "\n",
    "    def __init__(self, value: Numeric, *, is_extrapolated: bool):\n",
    "        self.value = value\n",
    "        self._is_extrapolated = is_extrapolated\n",
    "\n",
    "    @property\n",
    "    def cause(self) -> str:\n",
    "        if self.is_extrapolated:\n",
    "            return \"value is outside of input data range.\"\n",
    "        else:\n",
    "            raise ValueError()\n",
    "\n",
    "    @property\n",
    "    def is_extrapolated(self) -> bool:\n",
    "        return self._is_extrapolated\n",
    "\n",
    "\n",
    "@dataclasses.dataclass\n",
    "class Interpolated1DValue(InterpolatedValue):\n",
    "    value: Numeric\n",
    "    is_too_high: bool = False\n",
    "    is_too_low: bool = False\n",
    "    extrapolated_with_origo: bool = False  # Added y=x=0 to avoid extrapolation\n",
    "\n",
    "    def __init__(\n",
    "        self,\n",
    "        value: Numeric,\n",
    "        *,\n",
    "        x: Numeric,\n",
    "        x_min: float,\n",
    "        x_max: float,\n",
    "        extrapolated_with_origo: bool,\n",
    "    ):\n",
    "        self.value = value\n",
    "        if np.any(x < x_min):\n",
    "            self.is_too_low = True\n",
    "            self.extrapolated_with_origo = extrapolated_with_origo\n",
    "        elif np.any(x > x_max):\n",
    "            self.is_too_high = True\n",
    "\n",
    "    @property\n",
    "    def is_extrapolated(self) -> bool:\n",
    "        return self.is_too_low or self.is_too_low\n",
    "\n",
    "    @property\n",
    "    def cause(self) -> str:\n",
    "        if self.is_too_high:\n",
    "            return \"value is higher than input data.\"\n",
    "        elif self.extrapolated_with_origo:\n",
    "            return (\n",
    "                \"value is below input data, but a (0,0) value is used to interpolate.\"\n",
    "            )\n",
    "        elif self.is_too_low:\n",
    "            return \"value is below input data.\"\n",
    "        else:\n",
    "            raise ValueError()\n",
    "\n",
    "\n",
    "class Result(Generic[T]):\n",
    "    def __init__(self, value: T, *warnings: WarningMessage) -> None:\n",
    "        self.value: T = value\n",
    "        self.warnings: List[WarningMessage] = list(warnings)\n",
    "\n",
    "    def append_warning(self, *warning: WarningMessage) -> None:\n",
    "        self.warnings += warning\n",
    "\n",
    "\n",
    "def get_interpolation_1d_function(\n",
    "    *,\n",
    "    x: np.ndarray,\n",
    "    y: np.ndarray,\n",
    "    add_origo: bool,\n",
    "    kind: Union[str, int] = \"cubic\",\n",
    ") -> Callable[[float], Interpolated1DValue]:\n",
    "    \"\"\"Returns the interpolation 1d function\n",
    "    add_origin: (0,0) is added as a value if add_origin is true and x[0] > 0\n",
    "    \"\"\"\n",
    "\n",
    "    xmin = x.min()\n",
    "    if add_origo and x[0] > 0:\n",
    "        # prepend (0,0)\n",
    "        x = np.insert(x, 0, 0.0)  # type: ignore[no-untyped-call]\n",
    "        y = np.insert(y, 0, 0.0)  # type: ignore[no-untyped-call]\n",
    "\n",
    "    f = interp1d(\n",
    "        x=x,\n",
    "        y=y,\n",
    "        kind=kind,\n",
    "        fill_value=\"extrapolate\",\n",
    "        bounds_error=False,\n",
    "    )\n",
    "\n",
    "    def interp(xi: float) -> Interpolated1DValue:\n",
    "        v = f(xi)\n",
    "        return Interpolated1DValue(\n",
    "            v, x=xi, x_min=xmin, x_max=x[-1], extrapolated_with_origo=add_origo\n",
    "        )\n",
    "\n",
    "    return interp\n",
    "\n",
    "\n",
    "def get_froude_number(speed_kn: Numeric, lpp_m: float) -> Numeric:\n",
    "    \"\"\"Returns the Froude number for a given speed and length\n",
    "\n",
    "    @param speed_kn: speed in knots\n",
    "    @param lpp_m: length in meters\n",
    "    @return: Froude number\n",
    "    \"\"\"\n",
    "    return kn_to_m_per_s(speed_kn) / np.sqrt(9.81 * lpp_m)\n",
    "\n",
    "\n",
    "def get_speed_kn_from_froude_number(froude_number: Numeric, lpp_m: float) -> Numeric:\n",
    "    \"\"\"Returns the speed for a given Froude number and length\n",
    "\n",
    "    @param froude_number: Froude number\n",
    "    @param lpp_m: length in meters\n",
    "    @return: speed in knots\n",
    "    \"\"\"\n",
    "    return m_per_s_to_kn(froude_number * np.sqrt(9.81 * lpp_m))"
   ]
  },
  {
   "cell_type": "code",
   "execution_count": null,
   "metadata": {},
   "outputs": [],
   "source": [
    "import nbdev; nbdev.nbdev_export()"
   ]
  },
  {
   "cell_type": "code",
   "execution_count": null,
   "metadata": {},
   "outputs": [
    {
     "data": {
      "image/svg+xml": "<svg class=\"main-svg\" xmlns=\"http://www.w3.org/2000/svg\" xmlns:xlink=\"http://www.w3.org/1999/xlink\" width=\"700\" height=\"500\" style=\"\" viewBox=\"0 0 700 500\"><rect x=\"0\" y=\"0\" width=\"700\" height=\"500\" style=\"fill: rgb(255, 255, 255); fill-opacity: 1;\"/><defs id=\"defs-43422b\"><g class=\"clips\"><clipPath id=\"clip43422bxyplot\" class=\"plotclip\"><rect width=\"323\" height=\"320\"/></clipPath><clipPath class=\"axesclip\" id=\"clip43422bx\"><rect x=\"80\" y=\"0\" width=\"323\" height=\"500\"/></clipPath><clipPath class=\"axesclip\" id=\"clip43422by\"><rect x=\"0\" y=\"100\" width=\"700\" height=\"320\"/></clipPath><clipPath class=\"axesclip\" id=\"clip43422bxy\"><rect x=\"80\" y=\"100\" width=\"323\" height=\"320\"/></clipPath></g><g class=\"gradients\"/><g class=\"patterns\"/></defs><g class=\"bglayer\"><rect class=\"bg\" x=\"80\" y=\"100\" width=\"323\" height=\"320\" style=\"fill: rgb(229, 236, 246); fill-opacity: 1; stroke-width: 0;\"/></g><g class=\"layer-below\"><g class=\"imagelayer\"/><g class=\"shapelayer\"/></g><g class=\"cartesianlayer\"><g class=\"subplot xy\"><g class=\"layer-subplot\"><g class=\"shapelayer\"/><g class=\"imagelayer\"/></g><g class=\"minor-gridlayer\"><g class=\"x\"/><g class=\"y\"/></g><g class=\"gridlayer\"><g class=\"x\"><path class=\"xgrid crisp\" transform=\"translate(144.6,0)\" d=\"M0,100v320\" style=\"stroke: rgb(255, 255, 255); stroke-opacity: 1; stroke-width: 1px;\"/><path class=\"xgrid crisp\" transform=\"translate(209.2,0)\" d=\"M0,100v320\" style=\"stroke: rgb(255, 255, 255); stroke-opacity: 1; stroke-width: 1px;\"/><path class=\"xgrid crisp\" transform=\"translate(273.8,0)\" d=\"M0,100v320\" style=\"stroke: rgb(255, 255, 255); stroke-opacity: 1; stroke-width: 1px;\"/><path class=\"xgrid crisp\" transform=\"translate(338.4,0)\" d=\"M0,100v320\" style=\"stroke: rgb(255, 255, 255); stroke-opacity: 1; stroke-width: 1px;\"/></g><g class=\"y\"><path class=\"ygrid crisp\" transform=\"translate(0,397.26)\" d=\"M80,0h323\" style=\"stroke: rgb(255, 255, 255); stroke-opacity: 1; stroke-width: 1px;\"/><path class=\"ygrid crisp\" transform=\"translate(0,313.05)\" d=\"M80,0h323\" style=\"stroke: rgb(255, 255, 255); stroke-opacity: 1; stroke-width: 1px;\"/><path class=\"ygrid crisp\" transform=\"translate(0,144.63)\" d=\"M80,0h323\" style=\"stroke: rgb(255, 255, 255); stroke-opacity: 1; stroke-width: 1px;\"/></g></g><g class=\"zerolinelayer\"><path class=\"xzl zl crisp\" transform=\"translate(80,0)\" d=\"M0,100v320\" style=\"stroke: rgb(255, 255, 255); stroke-opacity: 1; stroke-width: 2px;\"/><path class=\"yzl zl crisp\" transform=\"translate(0,228.84)\" d=\"M80,0h323\" style=\"stroke: rgb(255, 255, 255); stroke-opacity: 1; stroke-width: 2px;\"/></g><path class=\"xlines-below\"/><path class=\"ylines-below\"/><g class=\"overlines-below\"/><g class=\"xaxislayer-below\"/><g class=\"yaxislayer-below\"/><g class=\"overaxes-below\"/><g class=\"plot\" transform=\"translate(80,100)\" clip-path=\"url(#clip43422bxyplot)\"><g class=\"scatterlayer mlayer\"><g class=\"trace scatter trace451e61\" style=\"stroke-miterlimit: 2; opacity: 1;\"><g class=\"fills\"/><g class=\"errorbars\"/><g class=\"lines\"/><g class=\"points\"><path class=\"point\" transform=\"translate(64.6,120.42)\" d=\"M3,0A3,3 0 1,1 0,-3A3,3 0 0,1 3,0Z\" style=\"opacity: 1; stroke-width: 0px; fill: rgb(99, 110, 250); fill-opacity: 1;\"/><path class=\"point\" transform=\"translate(129.2,61.47)\" d=\"M3,0A3,3 0 1,1 0,-3A3,3 0 0,1 3,0Z\" style=\"opacity: 1; stroke-width: 0px; fill: rgb(99, 110, 250); fill-opacity: 1;\"/><path class=\"point\" transform=\"translate(193.8,69.89)\" d=\"M3,0A3,3 0 1,1 0,-3A3,3 0 0,1 3,0Z\" style=\"opacity: 1; stroke-width: 0px; fill: rgb(99, 110, 250); fill-opacity: 1;\"/><path class=\"point\" transform=\"translate(258.4,88.42)\" d=\"M3,0A3,3 0 1,1 0,-3A3,3 0 0,1 3,0Z\" style=\"opacity: 1; stroke-width: 0px; fill: rgb(99, 110, 250); fill-opacity: 1;\"/></g><g class=\"text\"/></g><g class=\"trace scatter trace30b115\" style=\"stroke-miterlimit: 2; opacity: 1;\"><g class=\"fills\"/><g class=\"errorbars\"/><g class=\"lines\"><path class=\"js-line\" d=\"M0,304L12.92,254.57L19.38,232.43L32.3,193.05L38.76,175.69L51.68,145.33L58.14,132.23L71.06,109.86L77.52,100.49L90.44,85.09L96.9,78.95L109.82,69.48L116.28,66.04L129.2,61.47L135.66,60.23L148.58,59.53L155.04,59.96L167.96,62.11L174.42,63.7L193.8,69.89L200.26,72.24L232.56,83.46L239.02,85.21L251.94,87.75L258.4,88.42L271.32,88.3L277.78,87.39L290.7,83.58L297.16,80.57L310.08,72.04L316.54,66.41L323,59.79\" style=\"vector-effect: non-scaling-stroke; fill: none; stroke: rgb(239, 85, 59); stroke-opacity: 1; stroke-width: 2px; opacity: 1;\"/></g><g class=\"points\"/><g class=\"text\"/></g><g class=\"trace scatter trace76d944\" style=\"stroke-miterlimit: 2; opacity: 1;\"><g class=\"fills\"/><g class=\"errorbars\"/><g class=\"lines\"><path class=\"js-line\" d=\"M0,128.84L6.46,134.88L12.92,138.96L19.38,141.24L25.84,141.88L32.3,141.05L38.76,138.91L45.22,135.61L51.68,131.32L64.6,120.42L71.06,114.13L109.82,74.84L116.28,69.54L122.74,65.03L129.2,61.47L135.66,58.98L142.12,57.5L148.58,56.93L155.04,57.16L167.96,59.65L174.42,61.71L193.8,69.89L200.26,72.96L219.64,81.75L226.1,84.21L239.02,87.81L245.48,88.76L251.94,88.99L258.4,88.42L264.86,86.94L271.32,84.45L277.78,80.84L284.24,76.03L290.7,69.89L297.16,62.35L303.62,53.29L310.08,42.61L316.54,30.21L323,16\" style=\"vector-effect: non-scaling-stroke; fill: none; stroke: rgb(0, 204, 150); stroke-opacity: 1; stroke-width: 2px; opacity: 1;\"/></g><g class=\"points\"/><g class=\"text\"/></g></g></g><g class=\"overplot\"/><path class=\"xlines-above crisp\" d=\"M0,0\" style=\"fill: none;\"/><path class=\"ylines-above crisp\" d=\"M0,0\" style=\"fill: none;\"/><g class=\"overlines-above\"/><g class=\"xaxislayer-above\"><g class=\"xtick\"><text text-anchor=\"middle\" x=\"0\" y=\"433\" transform=\"translate(80,0)\" style=\"font-family: 'Open Sans', verdana, arial, sans-serif; font-size: 12px; fill: rgb(42, 63, 95); fill-opacity: 1; white-space: pre; opacity: 1;\">0</text></g><g class=\"xtick\"><text text-anchor=\"middle\" x=\"0\" y=\"433\" style=\"font-family: 'Open Sans', verdana, arial, sans-serif; font-size: 12px; fill: rgb(42, 63, 95); fill-opacity: 1; white-space: pre; opacity: 1;\" transform=\"translate(144.6,0)\">1</text></g><g class=\"xtick\"><text text-anchor=\"middle\" x=\"0\" y=\"433\" style=\"font-family: 'Open Sans', verdana, arial, sans-serif; font-size: 12px; fill: rgb(42, 63, 95); fill-opacity: 1; white-space: pre; opacity: 1;\" transform=\"translate(209.2,0)\">2</text></g><g class=\"xtick\"><text text-anchor=\"middle\" x=\"0\" y=\"433\" style=\"font-family: 'Open Sans', verdana, arial, sans-serif; font-size: 12px; fill: rgb(42, 63, 95); fill-opacity: 1; white-space: pre; opacity: 1;\" transform=\"translate(273.8,0)\">3</text></g><g class=\"xtick\"><text text-anchor=\"middle\" x=\"0\" y=\"433\" style=\"font-family: 'Open Sans', verdana, arial, sans-serif; font-size: 12px; fill: rgb(42, 63, 95); fill-opacity: 1; white-space: pre; opacity: 1;\" transform=\"translate(338.4,0)\">4</text></g><g class=\"xtick\"><text text-anchor=\"middle\" x=\"0\" y=\"433\" style=\"font-family: 'Open Sans', verdana, arial, sans-serif; font-size: 12px; fill: rgb(42, 63, 95); fill-opacity: 1; white-space: pre; opacity: 1;\" transform=\"translate(403,0)\">5</text></g></g><g class=\"yaxislayer-above\"><g class=\"ytick\"><text text-anchor=\"end\" x=\"79\" y=\"4.199999999999999\" transform=\"translate(0,397.26)\" style=\"font-family: 'Open Sans', verdana, arial, sans-serif; font-size: 12px; fill: rgb(42, 63, 95); fill-opacity: 1; white-space: pre; opacity: 1;\">−10</text></g><g class=\"ytick\"><text text-anchor=\"end\" x=\"79\" y=\"4.199999999999999\" style=\"font-family: 'Open Sans', verdana, arial, sans-serif; font-size: 12px; fill: rgb(42, 63, 95); fill-opacity: 1; white-space: pre; opacity: 1;\" transform=\"translate(0,313.05)\">−5</text></g><g class=\"ytick\"><text text-anchor=\"end\" x=\"79\" y=\"4.199999999999999\" style=\"font-family: 'Open Sans', verdana, arial, sans-serif; font-size: 12px; fill: rgb(42, 63, 95); fill-opacity: 1; white-space: pre; opacity: 1;\" transform=\"translate(0,228.84)\">0</text></g><g class=\"ytick\"><text text-anchor=\"end\" x=\"79\" y=\"4.199999999999999\" style=\"font-family: 'Open Sans', verdana, arial, sans-serif; font-size: 12px; fill: rgb(42, 63, 95); fill-opacity: 1; white-space: pre; opacity: 1;\" transform=\"translate(0,144.63)\">5</text></g></g><g class=\"overaxes-above\"/></g></g><g class=\"polarlayer\"/><g class=\"smithlayer\"/><g class=\"ternarylayer\"/><g class=\"geolayer\"/><g class=\"funnelarealayer\"/><g class=\"pielayer\"/><g class=\"iciclelayer\"/><g class=\"treemaplayer\"/><g class=\"sunburstlayer\"/><g class=\"glimages\"/><defs id=\"topdefs-43422b\"><g class=\"clips\"/><clipPath id=\"legend43422b\"><rect width=\"279\" height=\"67\" x=\"0\" y=\"0\"/></clipPath></defs><g class=\"layer-above\"><g class=\"imagelayer\"/><g class=\"shapelayer\"/></g><g class=\"infolayer\"><g class=\"legend\" pointer-events=\"all\" transform=\"translate(409.46,100)\"><rect class=\"bg\" shape-rendering=\"crispEdges\" width=\"279\" height=\"67\" x=\"0\" y=\"0\" style=\"stroke: rgb(68, 68, 68); stroke-opacity: 1; fill: rgb(255, 255, 255); fill-opacity: 1; stroke-width: 0px;\"/><g class=\"scrollbox\" transform=\"\" clip-path=\"url(#legend43422b)\"><g class=\"groups\"><g class=\"traces\" transform=\"translate(0,14.5)\" style=\"opacity: 1;\"><text class=\"legendtext\" text-anchor=\"start\" x=\"40\" y=\"4.680000000000001\" style=\"font-family: 'Open Sans', verdana, arial, sans-serif; font-size: 12px; fill: rgb(42, 63, 95); fill-opacity: 1; white-space: pre;\">Data given</text><g class=\"layers\" style=\"opacity: 1;\"><g class=\"legendfill\"/><g class=\"legendlines\"/><g class=\"legendsymbols\"><g class=\"legendpoints\"><path class=\"scatterpts\" transform=\"translate(20,0)\" d=\"M3,0A3,3 0 1,1 0,-3A3,3 0 0,1 3,0Z\" style=\"opacity: 1; stroke-width: 0px; fill: rgb(99, 110, 250); fill-opacity: 1;\"/></g></g></g><rect class=\"legendtoggle\" x=\"0\" y=\"-9.5\" width=\"273.78125\" height=\"19\" style=\"fill: rgb(0, 0, 0); fill-opacity: 0;\"/></g><g class=\"traces\" transform=\"translate(0,33.5)\" style=\"opacity: 1;\"><text class=\"legendtext\" text-anchor=\"start\" x=\"40\" y=\"4.680000000000001\" style=\"font-family: 'Open Sans', verdana, arial, sans-serif; font-size: 12px; fill: rgb(42, 63, 95); fill-opacity: 1; white-space: pre;\">Interpolation without adding the origin</text><g class=\"layers\" style=\"opacity: 1;\"><g class=\"legendfill\"/><g class=\"legendlines\"><path class=\"js-line\" d=\"M5,0h30\" style=\"fill: none; stroke: rgb(239, 85, 59); stroke-opacity: 1; stroke-width: 2px;\"/></g><g class=\"legendsymbols\"><g class=\"legendpoints\"/></g></g><rect class=\"legendtoggle\" x=\"0\" y=\"-9.5\" width=\"273.78125\" height=\"19\" style=\"fill: rgb(0, 0, 0); fill-opacity: 0;\"/></g><g class=\"traces\" transform=\"translate(0,52.5)\" style=\"opacity: 1;\"><text class=\"legendtext\" text-anchor=\"start\" x=\"40\" y=\"4.680000000000001\" style=\"font-family: 'Open Sans', verdana, arial, sans-serif; font-size: 12px; fill: rgb(42, 63, 95); fill-opacity: 1; white-space: pre;\">Interpolation with adding the origin</text><g class=\"layers\" style=\"opacity: 1;\"><g class=\"legendfill\"/><g class=\"legendlines\"><path class=\"js-line\" d=\"M5,0h30\" style=\"fill: none; stroke: rgb(0, 204, 150); stroke-opacity: 1; stroke-width: 2px;\"/></g><g class=\"legendsymbols\"><g class=\"legendpoints\"/></g></g><rect class=\"legendtoggle\" x=\"0\" y=\"-9.5\" width=\"273.78125\" height=\"19\" style=\"fill: rgb(0, 0, 0); fill-opacity: 0;\"/></g></g></g><rect class=\"scrollbar\" rx=\"20\" ry=\"3\" width=\"0\" height=\"0\" x=\"0\" y=\"0\" style=\"fill: rgb(128, 139, 164); fill-opacity: 1;\"/></g><g class=\"g-gtitle\"/><g class=\"g-xtitle\"/><g class=\"g-ytitle\"/></g></svg>"
     },
     "metadata": {},
     "output_type": "display_data"
    }
   ],
   "source": [
    "# Testing interpolation function\n",
    "from ship_model_lib.utility import get_interpolation_1d_function\n",
    "from plotly.subplots import make_subplots\n",
    "import plotly.graph_objects as go\n",
    "\n",
    "interp_x_data = np.array([1, 2, 3, 4])\n",
    "interp_y_data = np.array([0.5, 4, 3.5, 2.4])\n",
    "\n",
    "interp_function_with_out_origo = get_interpolation_1d_function(x=interp_x_data, y=interp_y_data, add_origo=False)\n",
    "\n",
    "assert interp_function_with_out_origo(0).value != 0, \"The function should not be zero when origin was not added.\"\n",
    "assert interp_function_with_out_origo(0).is_extrapolated, \"The value is extrapolated, while the object says that it is not.\"\n",
    "\n",
    "x_new = np.linspace(0, 5, 51)\n",
    "y_new = interp_function_with_out_origo(x_new).value\n",
    "fig = make_subplots()\n",
    "fig.add_trace(go.Scatter(x=interp_x_data, y=interp_y_data, name=\"Data given\", mode=\"markers\"))\n",
    "fig.add_trace(go.Scatter(x=x_new, y=y_new, name=\"Interpolation without adding the origin\"))\n",
    "\n",
    "interp_function_with_origo = get_interpolation_1d_function(x=interp_x_data, y=interp_y_data, add_origo=True)\n",
    "\n",
    "assert interp_function_with_origo(0).value == 0, \"The function should be zero when origin was added.\"\n",
    "assert interp_function_with_origo(0).is_extrapolated, \"The value is extrapolated, while the object says that it is not.\"\n",
    "\n",
    "x_new = np.linspace(0, 5, 51)\n",
    "y_new = interp_function_with_origo(x_new).value\n",
    "fig.add_trace(go.Scatter(x=x_new, y=y_new, name=\"Interpolation with adding the origin\"))\n",
    "fig.show(renderer=\"png\")"
   ]
  },
  {
   "cell_type": "markdown",
   "metadata": {},
   "source": [
    "## Converters"
   ]
  },
  {
   "cell_type": "code",
   "execution_count": null,
   "metadata": {},
   "outputs": [],
   "source": []
  }
 ],
 "metadata": {
  "kernelspec": {
   "display_name": "python3",
   "language": "python",
   "name": "python3"
  }
 },
 "nbformat": 4,
 "nbformat_minor": 4
}
